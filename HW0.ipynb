{
 "cells": [
  {
   "cell_type": "code",
   "execution_count": 270,
   "id": "4e99d114-fb6f-4ea6-bbbf-ff0102ae3b58",
   "metadata": {},
   "outputs": [],
   "source": [
    "import numpy as np\n",
    "import matplotlib.pyplot as plt\n",
    "import pandas as pd"
   ]
  },
  {
   "cell_type": "code",
   "execution_count": 271,
   "id": "fb912762-d7d8-4fe2-befd-99c00b6c6186",
   "metadata": {},
   "outputs": [
    {
     "data": {
      "text/html": [
       "<div>\n",
       "<style scoped>\n",
       "    .dataframe tbody tr th:only-of-type {\n",
       "        vertical-align: middle;\n",
       "    }\n",
       "\n",
       "    .dataframe tbody tr th {\n",
       "        vertical-align: top;\n",
       "    }\n",
       "\n",
       "    .dataframe thead th {\n",
       "        text-align: right;\n",
       "    }\n",
       "</style>\n",
       "<table border=\"1\" class=\"dataframe\">\n",
       "  <thead>\n",
       "    <tr style=\"text-align: right;\">\n",
       "      <th></th>\n",
       "      <th>X1</th>\n",
       "      <th>X2</th>\n",
       "      <th>X3</th>\n",
       "      <th>Y</th>\n",
       "    </tr>\n",
       "  </thead>\n",
       "  <tbody>\n",
       "    <tr>\n",
       "      <th>0</th>\n",
       "      <td>0.000000</td>\n",
       "      <td>3.440000</td>\n",
       "      <td>0.440000</td>\n",
       "      <td>4.387545</td>\n",
       "    </tr>\n",
       "    <tr>\n",
       "      <th>1</th>\n",
       "      <td>0.040404</td>\n",
       "      <td>0.134949</td>\n",
       "      <td>0.888485</td>\n",
       "      <td>2.679650</td>\n",
       "    </tr>\n",
       "    <tr>\n",
       "      <th>2</th>\n",
       "      <td>0.080808</td>\n",
       "      <td>0.829899</td>\n",
       "      <td>1.336970</td>\n",
       "      <td>2.968490</td>\n",
       "    </tr>\n",
       "    <tr>\n",
       "      <th>3</th>\n",
       "      <td>0.121212</td>\n",
       "      <td>1.524848</td>\n",
       "      <td>1.785455</td>\n",
       "      <td>3.254065</td>\n",
       "    </tr>\n",
       "    <tr>\n",
       "      <th>4</th>\n",
       "      <td>0.161616</td>\n",
       "      <td>2.219798</td>\n",
       "      <td>2.233939</td>\n",
       "      <td>3.536375</td>\n",
       "    </tr>\n",
       "  </tbody>\n",
       "</table>\n",
       "</div>"
      ],
      "text/plain": [
       "         X1        X2        X3         Y\n",
       "0  0.000000  3.440000  0.440000  4.387545\n",
       "1  0.040404  0.134949  0.888485  2.679650\n",
       "2  0.080808  0.829899  1.336970  2.968490\n",
       "3  0.121212  1.524848  1.785455  3.254065\n",
       "4  0.161616  2.219798  2.233939  3.536375"
      ]
     },
     "execution_count": 271,
     "metadata": {},
     "output_type": "execute_result"
    }
   ],
   "source": [
    "dataset = pd.read_csv('D3.csv')\n",
    "dataset.head()"
   ]
  },
  {
   "cell_type": "code",
   "execution_count": 272,
   "id": "fbbe4a40-05d7-445b-8f0b-9d7c53a9595e",
   "metadata": {},
   "outputs": [
    {
     "name": "stdout",
     "output_type": "stream",
     "text": [
      "x =  [0.         0.04040404 0.08080808 0.12121212 0.16161616 0.2020202\n",
      " 0.24242424 0.28282828 0.32323232 0.36363636 0.4040404  0.44444444\n",
      " 0.48484848 0.52525252 0.56565657 0.60606061 0.64646465 0.68686869\n",
      " 0.72727273 0.76767677 0.80808081 0.84848485 0.88888889 0.92929293\n",
      " 0.96969697 1.01010101 1.05050505 1.09090909 1.13131313 1.17171717\n",
      " 1.21212121 1.25252525 1.29292929 1.33333333 1.37373737 1.41414141\n",
      " 1.45454546 1.49494949 1.53535354 1.57575758 1.61616162 1.65656566\n",
      " 1.6969697  1.73737374 1.77777778 1.81818182 1.85858586 1.8989899\n",
      " 1.93939394 1.97979798 2.02020202 2.06060606 2.1010101  2.14141414\n",
      " 2.18181818 2.22222222 2.26262626 2.3030303  2.34343434 2.38383838\n",
      " 2.42424242 2.46464646 2.5050505  2.54545455 2.58585859 2.62626263\n",
      " 2.66666667 2.70707071 2.74747475 2.78787879 2.82828283 2.86868687\n",
      " 2.90909091 2.94949495 2.98989899 3.03030303 3.07070707 3.11111111\n",
      " 3.15151515 3.19191919 3.23232323 3.27272727 3.31313131 3.35353535\n",
      " 3.39393939 3.43434343 3.47474748 3.51515151 3.55555556 3.5959596\n",
      " 3.63636364 3.67676768 3.71717172 3.75757576 3.7979798  3.83838384\n",
      " 3.87878788 3.91919192 3.95959596 4.        ]\n",
      "m =  100\n"
     ]
    }
   ],
   "source": [
    "x1 = dataset.values[:, 0]\n",
    "x2 = dataset.values[:, 1]\n",
    "x3 = dataset.values[:, 2]\n",
    "y = dataset.values[:, 3]\n",
    "m = len(y)\n",
    "\n",
    "print('x = ', x1[: 100])\n",
    "print('m = ', m)"
   ]
  },
  {
   "cell_type": "code",
   "execution_count": 273,
   "id": "a20ef4ee-26de-4e98-b284-ba72ce0f4b7f",
   "metadata": {},
   "outputs": [
    {
     "data": {
      "text/plain": [
       "Text(0.5, 1.0, 'Scatter plot of HW1')"
      ]
     },
     "execution_count": 273,
     "metadata": {},
     "output_type": "execute_result"
    },
    {
     "data": {
      "image/png": "[encoded data removed]",
      "text/plain": [
       "<Figure size 720x432 with 1 Axes>"
      ]
     },
     "metadata": {
      "needs_background": "light"
     },
     "output_type": "display_data"
    }
   ],
   "source": [
    "plt.scatter(x1,y, color='red' , marker= '+')\n",
    "plt.grid()\n",
    "plt.rcParams[\"figure.figsize\"] = (10,6)\n",
    "plt.xlabel('Horizontial')\n",
    "plt.ylabel('Vertical')\n",
    "plt.title('Scatter plot of HW1')"
   ]
  },
  {
   "cell_type": "code",
   "execution_count": 274,
   "id": "1d1a6351-4233-4d9d-9a10-1efefe073cb0",
   "metadata": {},
   "outputs": [
    {
     "data": {
      "text/plain": [
       "array([[1.],\n",
       "       [1.],\n",
       "       [1.],\n",
       "       [1.],\n",
       "       [1.]])"
      ]
     },
     "execution_count": 274,
     "metadata": {},
     "output_type": "execute_result"
    }
   ],
   "source": [
    "x_0 = np.ones((m, 1))\n",
    "x_0[:5]"
   ]
  },
  {
   "cell_type": "code",
   "execution_count": 275,
   "id": "6dc4cedb-e3e9-4b77-b9a0-f059f932678d",
   "metadata": {},
   "outputs": [
    {
     "data": {
      "text/plain": [
       "array([[0.        ],\n",
       "       [0.04040404],\n",
       "       [0.08080808],\n",
       "       [0.12121212],\n",
       "       [0.16161616]])"
      ]
     },
     "execution_count": 275,
     "metadata": {},
     "output_type": "execute_result"
    }
   ],
   "source": [
    "x_1 = x1.reshape(m, 1)\n",
    "x_1[:5]\n"
   ]
  },
  {
   "cell_type": "code",
   "execution_count": 276,
   "id": "a5f507fc-a4f5-4957-8323-f51f98ee2ba0",
   "metadata": {},
   "outputs": [
    {
     "data": {
      "text/plain": [
       "array([[3.44      ],\n",
       "       [0.1349495 ],\n",
       "       [0.82989899],\n",
       "       [1.52484848],\n",
       "       [2.21979798]])"
      ]
     },
     "execution_count": 276,
     "metadata": {},
     "output_type": "execute_result"
    }
   ],
   "source": [
    "x_2 = x2.reshape(m, 1)\n",
    "x_2[:5]\n"
   ]
  },
  {
   "cell_type": "code",
   "execution_count": 277,
   "id": "97b597b5-3664-446a-9ee3-7c4f67a87531",
   "metadata": {},
   "outputs": [
    {
     "data": {
      "text/plain": [
       "array([[0.44      ],\n",
       "       [0.88848485],\n",
       "       [1.3369697 ],\n",
       "       [1.78545454],\n",
       "       [2.23393939]])"
      ]
     },
     "execution_count": 277,
     "metadata": {},
     "output_type": "execute_result"
    }
   ],
   "source": [
    "x_3 = x3.reshape(m, 1)\n",
    "x_3[:5]\n"
   ]
  },
  {
   "cell_type": "code",
   "execution_count": 278,
   "id": "9b52a3c5-81ef-4b59-91a7-ce3b6bb6ab30",
   "metadata": {},
   "outputs": [
    {
     "data": {
      "text/plain": [
       "array([[1.        , 0.        ],\n",
       "       [1.        , 0.04040404],\n",
       "       [1.        , 0.08080808],\n",
       "       [1.        , 0.12121212],\n",
       "       [1.        , 0.16161616]])"
      ]
     },
     "execution_count": 278,
     "metadata": {},
     "output_type": "execute_result"
    }
   ],
   "source": [
    "X1 = np.hstack((x_0, x_1))\n",
    "X1[:5]"
   ]
  },
  {
   "cell_type": "code",
   "execution_count": 279,
   "id": "bd553ae5-6556-467a-9634-3686a89bbd70",
   "metadata": {},
   "outputs": [
    {
     "data": {
      "text/plain": [
       "array([[1.        , 3.44      ],\n",
       "       [1.        , 0.1349495 ],\n",
       "       [1.        , 0.82989899],\n",
       "       [1.        , 1.52484848],\n",
       "       [1.        , 2.21979798]])"
      ]
     },
     "execution_count": 279,
     "metadata": {},
     "output_type": "execute_result"
    }
   ],
   "source": [
    "X2 = np.hstack((x_0, x_2))\n",
    "X2[:5]"
   ]
  },
  {
   "cell_type": "code",
   "execution_count": 280,
   "id": "b3db6d53-731c-4bf0-89c9-b771afb66d4e",
   "metadata": {},
   "outputs": [
    {
     "data": {
      "text/plain": [
       "array([[1.        , 0.44      ],\n",
       "       [1.        , 0.88848485],\n",
       "       [1.        , 1.3369697 ],\n",
       "       [1.        , 1.78545454],\n",
       "       [1.        , 2.23393939]])"
      ]
     },
     "execution_count": 280,
     "metadata": {},
     "output_type": "execute_result"
    }
   ],
   "source": [
    "X3 = np.hstack((x_0, x_3))\n",
    "X3[:5]"
   ]
  },
  {
   "cell_type": "code",
   "execution_count": 281,
   "id": "d71cf77d-a6ed-4818-ae4e-6bfaf4617ec0",
   "metadata": {},
   "outputs": [
    {
     "data": {
      "text/plain": [
       "array([0., 0.])"
      ]
     },
     "execution_count": 281,
     "metadata": {},
     "output_type": "execute_result"
    }
   ],
   "source": [
    "theta = np.zeros(2)\n",
    "theta"
   ]
  },
  {
   "cell_type": "code",
   "execution_count": 321,
   "id": "6ad29207-65c8-42ea-96da-7502b65614be",
   "metadata": {
    "tags": []
   },
   "outputs": [],
   "source": [
    "def get_loss_1(X1, y, theta):\n",
    "    \"\"\"\n",
    "    x is inpute data (m x n)\n",
    "    y (m x 1)\n",
    "    theta (n x 1)\n",
    "    \"\"\"\n",
    "    h1 = X1.dot(theta)\n",
    "    error = np.subtract(h1, y)\n",
    "    sqrError = np.square(error)\n",
    "    J1 = 1 / (2 * m) * np.sum(sqrError)\n",
    "\n",
    "    return J1\n"
   ]
  },
  {
   "cell_type": "code",
   "execution_count": 322,
   "id": "9fc7c074-e893-4f40-ae8c-fb71feafb0da",
   "metadata": {},
   "outputs": [
    {
     "name": "stdout",
     "output_type": "stream",
     "text": [
      "0.9849930825405946\n"
     ]
    }
   ],
   "source": [
    "loss_x1 = get_loss_1(X1, y, theta)\n",
    "\n",
    "print(loss_x1)"
   ]
  },
  {
   "cell_type": "code",
   "execution_count": 323,
   "id": "b039140b-0662-4c30-8296-3666a9216a6e",
   "metadata": {},
   "outputs": [],
   "source": [
    "def gradient_descent_x1(X1, y, theta, alpha, iterations):\n",
    "    \n",
    "    cost_history_1 = np.zeros(iterations)\n",
    "    \n",
    "    for i in range(iterations):\n",
    "        h1 = X1.dot(theta)\n",
    "        error = np.subtract(h1, y)\n",
    "        sum_delta = (alpha / m) * X1.transpose().dot(error);\n",
    "        theta = theta - sum_delta;\n",
    "        cost_history_1[i] = get_loss_1(X1, y, theta)\n",
    "        \n",
    "    return theta, cost_history_1"
   ]
  },
  {
   "cell_type": "code",
   "execution_count": 324,
   "id": "8b9455cc-0a0a-43c6-9525-1476685c2cb1",
   "metadata": {},
   "outputs": [],
   "source": [
    "theta = [0., 0.]\n",
    "iterations = 1500;\n",
    "alpha = 0.1;"
   ]
  },
  {
   "cell_type": "code",
   "execution_count": 325,
   "id": "a42dfecd-5079-4a72-a754-11196336929e",
   "metadata": {},
   "outputs": [
    {
     "name": "stdout",
     "output_type": "stream",
     "text": [
      "Value of Theta:  [ 5.92794892 -2.03833663]\n",
      "Cost History:  [5.16999006 4.96338989 4.7855721  ... 0.98499308 0.98499308 0.98499308]\n"
     ]
    }
   ],
   "source": [
    "theta, cost_history_1 = gradient_descent_x1(X1, y, theta, alpha, iterations)\n",
    "print('Value of Theta: ', theta)\n",
    "print('Cost History: ', cost_history_1)"
   ]
  },
  {
   "cell_type": "code",
   "execution_count": 326,
   "id": "4911c39e-c43a-450d-b754-a6797010b57e",
   "metadata": {},
   "outputs": [
    {
     "data": {
      "text/plain": [
       "<matplotlib.legend.Legend at 0x260971bf760>"
      ]
     },
     "execution_count": 326,
     "metadata": {},
     "output_type": "execute_result"
    },
    {
     "data": {
      "image/png": "[encoded data removed]",
      "text/plain": [
       "<Figure size 720x432 with 1 Axes>"
      ]
     },
     "metadata": {
      "needs_background": "light"
     },
     "output_type": "display_data"
    }
   ],
   "source": [
    "plt.scatter(X1[:,1], y, color = 'blue', label = 'Training Data')\n",
    "plt.plot(X1[:,1], X1.dot(theta), color = 'red', label = 'Linear Regression')\n",
    "\n",
    "\n",
    "plt.rcParams[\"figure.figsize\"] = (10, 6)\n",
    "plt.grid()\n",
    "plt.xlabel('X1')\n",
    "plt.ylabel('Y')\n",
    "plt.title('Linear Regression')\n",
    "\n",
    "plt.legend()"
   ]
  },
  {
   "cell_type": "code",
   "execution_count": 327,
   "id": "e584ca00-ed4e-4c26-8535-ae3e636ba8d6",
   "metadata": {},
   "outputs": [
    {
     "data": {
      "image/png": "[encoded data removed]",
      "text/plain": [
       "<Figure size 720x432 with 1 Axes>"
      ]
     },
     "metadata": {
      "needs_background": "light"
     },
     "output_type": "display_data"
    }
   ],
   "source": [
    "plt.plot(range(1, iterations + 1), cost_history_1, color = 'blue')\n",
    "plt.rcParams[\"figure.figsize\"] = (10, 6)\n",
    "plt.grid()\n"
   ]
  },
  {
   "cell_type": "code",
   "execution_count": 328,
   "id": "e0b83e02-6384-4d49-820b-0f47eec4b49a",
   "metadata": {},
   "outputs": [],
   "source": [
    "def get_loss_2(X2, y, theta):\n",
    "    \"\"\"\n",
    "    x is inpute data (m x n)\n",
    "    y (m x 1)\n",
    "    theta (n x 1)\n",
    "    \"\"\"\n",
    "    h2 = X2.dot(theta)\n",
    "    error = np.subtract(h2, y)\n",
    "    sqrError = np.square(error)\n",
    "    J2 = 1 / (2 * m) * np.sum(sqrError)\n",
    "\n",
    "    return J2\n"
   ]
  },
  {
   "cell_type": "code",
   "execution_count": 329,
   "id": "2814cb0d-decf-4a05-b68f-74084b8db11c",
   "metadata": {},
   "outputs": [
    {
     "name": "stdout",
     "output_type": "stream",
     "text": [
      "8.182525826043467\n"
     ]
    }
   ],
   "source": [
    "loss_x2 = get_loss_2(X2, y, theta)\n",
    "\n",
    "print(loss_x2)"
   ]
  },
  {
   "cell_type": "code",
   "execution_count": 330,
   "id": "6e8f71ef-58ce-4c4c-a889-f3c78a926b5e",
   "metadata": {},
   "outputs": [],
   "source": [
    "def gradient_descent_x2(X2, y, theta, alpha, iterations):\n",
    "    \n",
    "    cost_history_2 = np.zeros(iterations)\n",
    "    \n",
    "    for i in range(iterations):\n",
    "        h2 = X2.dot(theta)\n",
    "        error = np.subtract(h2, y)\n",
    "        sum_delta = (alpha / m) * X2.transpose().dot(error);\n",
    "        theta = theta - sum_delta;\n",
    "        cost_history_2[i] = get_loss_2(X2, y, theta)\n",
    "        \n",
    "    return theta, cost_history_2"
   ]
  },
  {
   "cell_type": "code",
   "execution_count": 331,
   "id": "f8ce08fa-ebdb-4f57-bbdc-30da3f7dd92d",
   "metadata": {},
   "outputs": [],
   "source": [
    "theta = [0., 0.]\n",
    "iterations = 1500;\n",
    "alpha = 0.01;"
   ]
  },
  {
   "cell_type": "code",
   "execution_count": 332,
   "id": "5c947eda-e5b9-4e89-9de1-f77c5da4d662",
   "metadata": {},
   "outputs": [
    {
     "name": "stdout",
     "output_type": "stream",
     "text": [
      "Value of Theta:  [0.71988473 0.56390334]\n",
      "Cost History:  [5.29831663 5.09909109 4.92356115 ... 3.5993997  3.59939955 3.5993994 ]\n"
     ]
    }
   ],
   "source": [
    "theta, cost_history_2 = gradient_descent_x2(X2, y, theta, alpha, iterations)\n",
    "print('Value of Theta: ', theta)\n",
    "print('Cost History: ', cost_history_2)"
   ]
  },
  {
   "cell_type": "code",
   "execution_count": 333,
   "id": "f9d6846c-7c2f-4d83-a980-35f81944c6d7",
   "metadata": {},
   "outputs": [
    {
     "data": {
      "text/plain": [
       "<matplotlib.legend.Legend at 0x2609bd02820>"
      ]
     },
     "execution_count": 333,
     "metadata": {},
     "output_type": "execute_result"
    },
    {
     "data": {
      "image/png": "[encoded data removed]",
      "text/plain": [
       "<Figure size 720x432 with 1 Axes>"
      ]
     },
     "metadata": {
      "needs_background": "light"
     },
     "output_type": "display_data"
    }
   ],
   "source": [
    "plt.scatter(X2[:,1], y, color = 'blue', label = 'Training Data')\n",
    "plt.plot(X2[:,1], X2.dot(theta), color = 'red', label = 'Linear Regression')\n",
    "\n",
    "\n",
    "plt.rcParams[\"figure.figsize\"] = (10, 6)\n",
    "plt.grid()\n",
    "\n",
    "\n",
    "plt.legend()"
   ]
  },
  {
   "cell_type": "code",
   "execution_count": 334,
   "id": "feb7f7f0-b318-4c68-93fa-9f39b9a98d11",
   "metadata": {},
   "outputs": [
    {
     "data": {
      "image/png": "[encoded data removed]",
      "text/plain": [
       "<Figure size 720x432 with 1 Axes>"
      ]
     },
     "metadata": {
      "needs_background": "light"
     },
     "output_type": "display_data"
    }
   ],
   "source": [
    "plt.plot(range(1, iterations + 1), cost_history_2, color = 'blue')\n",
    "plt.rcParams[\"figure.figsize\"] = (10, 6)\n",
    "plt.grid()"
   ]
  },
  {
   "cell_type": "code",
   "execution_count": 335,
   "id": "b64dab49-09ae-4f4f-85d0-2a9055de4c53",
   "metadata": {},
   "outputs": [],
   "source": [
    "def get_loss_3(X3, y, theta):\n",
    "    \"\"\"\n",
    "    x is inpute data (m x n)\n",
    "    y (m x 1)\n",
    "    theta (n x 1)\n",
    "    \"\"\"\n",
    "    h3 = X3.dot(theta)\n",
    "    error = np.subtract(h3, y)\n",
    "    sqrError = np.square(error)\n",
    "    J3 = 1 / (2 * m) * np.sum(sqrError)\n",
    "\n",
    "    return J3\n"
   ]
  },
  {
   "cell_type": "code",
   "execution_count": 336,
   "id": "3302ccf3-b453-490c-a5dc-bd484b16eb13",
   "metadata": {},
   "outputs": [
    {
     "name": "stdout",
     "output_type": "stream",
     "text": [
      "4.417085543820646\n"
     ]
    }
   ],
   "source": [
    "loss_x3 = get_loss_3(X3, y, theta)\n",
    "\n",
    "print(loss_x3)"
   ]
  },
  {
   "cell_type": "code",
   "execution_count": 337,
   "id": "f174d318-2738-4555-8173-7013e7c638ac",
   "metadata": {},
   "outputs": [],
   "source": [
    "def gradient_descent_x3(X3, y, theta, alpha, iterations):\n",
    "    \n",
    "    cost_history_3 = np.zeros(iterations)\n",
    "    \n",
    "    for i in range(iterations):\n",
    "        h3 = X3.dot(theta)\n",
    "        error = np.subtract(h3, y)\n",
    "        sum_delta = (alpha / m) * X3.transpose().dot(error);\n",
    "        theta = theta - sum_delta;\n",
    "        cost_history_3[i] = get_loss_3(X3, y, theta)\n",
    "        \n",
    "    return theta, cost_history_3"
   ]
  },
  {
   "cell_type": "code",
   "execution_count": 338,
   "id": "edefd84e-3567-48c2-a50f-245b0fac2105",
   "metadata": {},
   "outputs": [],
   "source": [
    "theta = [0., 0.]\n",
    "iterations = 1500;\n",
    "alpha = 0.01;"
   ]
  },
  {
   "cell_type": "code",
   "execution_count": 339,
   "id": "c71d19e3-b216-4378-a751-63703a5f39c4",
   "metadata": {},
   "outputs": [
    {
     "name": "stdout",
     "output_type": "stream",
     "text": [
      "Value of Theta:  [ 2.78048129 -0.48451631]\n",
      "Cost History:  [5.40768785 5.30397076 5.21178297 ... 3.63053597 3.6305311  3.63052625]\n"
     ]
    }
   ],
   "source": [
    "theta, cost_history_3 = gradient_descent_x3(X3, y, theta, alpha, iterations)\n",
    "print('Value of Theta: ', theta)\n",
    "print('Cost History: ', cost_history_3)"
   ]
  },
  {
   "cell_type": "code",
   "execution_count": 340,
   "id": "983450a1-da34-43a0-9367-8b03fe1b8ff1",
   "metadata": {},
   "outputs": [
    {
     "data": {
      "text/plain": [
       "<matplotlib.legend.Legend at 0x2609bdf5220>"
      ]
     },
     "execution_count": 340,
     "metadata": {},
     "output_type": "execute_result"
    },
    {
     "data": {
      "image/png": "[encoded data removed]",
      "text/plain": [
       "<Figure size 720x432 with 1 Axes>"
      ]
     },
     "metadata": {
      "needs_background": "light"
     },
     "output_type": "display_data"
    }
   ],
   "source": [
    "plt.scatter(X3[:,1], y, color = 'blue', label = 'Training Data')\n",
    "plt.plot(X3[:,1], X3.dot(theta), color = 'red', label = 'Linear Regression')\n",
    "\n",
    "\n",
    "plt.rcParams[\"figure.figsize\"] = (10, 6)\n",
    "plt.grid()\n",
    "\n",
    "\n",
    "plt.legend()"
   ]
  },
  {
   "cell_type": "code",
   "execution_count": 341,
   "id": "4ee31f06-e873-4d70-a5bd-11ba36173e4c",
   "metadata": {},
   "outputs": [
    {
     "data": {
      "image/png": "[encoded data removed]",
      "text/plain": [
       "<Figure size 720x432 with 1 Axes>"
      ]
     },
     "metadata": {
      "needs_background": "light"
     },
     "output_type": "display_data"
    }
   ],
   "source": [
    "plt.plot(range(1, iterations + 1), cost_history_3, color = 'blue')\n",
    "plt.rcParams[\"figure.figsize\"] = (10, 6)\n",
    "plt.grid()"
   ]
  },
  {
   "cell_type": "code",
   "execution_count": null,
   "id": "d59dd921-a8c1-4254-bad0-de901ad6203f",
   "metadata": {},
   "outputs": [],
   "source": []
  },
  {
   "cell_type": "code",
   "execution_count": null,
   "id": "a0a402ba-b588-4f7d-b700-44bd329d96e7",
   "metadata": {},
   "outputs": [],
   "source": []
  }
 ],
 "metadata": {
  "kernelspec": {
   "display_name": "Python 3 (ipykernel)",
   "language": "python",
   "name": "python3"
  },
  "language_info": {
   "codemirror_mode": {
    "name": "ipython",
    "version": 3
   },
   "file_extension": ".py",
   "mimetype": "text/x-python",
   "name": "python",
   "nbconvert_exporter": "python",
   "pygments_lexer": "ipython3",
   "version": "3.9.12"
  }
 },
 "nbformat": 4,
 "nbformat_minor": 5
}
