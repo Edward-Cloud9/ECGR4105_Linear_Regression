{
 "cells": [
  {
   "cell_type": "code",
   "execution_count": 280,
   "id": "af2c05b8-e172-4671-a550-64061b16f802",
   "metadata": {},
   "outputs": [],
   "source": [
    "import numpy as np\n",
    "import matplotlib.pyplot as plt\n",
    "import pandas as pd"
   ]
  },
  {
   "cell_type": "code",
   "execution_count": 281,
   "id": "38f0f04f-53ec-4dbc-8430-e71ef1f69b50",
   "metadata": {},
   "outputs": [
    {
     "data": {
      "text/html": [
       "<div>\n",
       "<style scoped>\n",
       "    .dataframe tbody tr th:only-of-type {\n",
       "        vertical-align: middle;\n",
       "    }\n",
       "\n",
       "    .dataframe tbody tr th {\n",
       "        vertical-align: top;\n",
       "    }\n",
       "\n",
       "    .dataframe thead th {\n",
       "        text-align: right;\n",
       "    }\n",
       "</style>\n",
       "<table border=\"1\" class=\"dataframe\">\n",
       "  <thead>\n",
       "    <tr style=\"text-align: right;\">\n",
       "      <th></th>\n",
       "      <th>X1</th>\n",
       "      <th>X2</th>\n",
       "      <th>X3</th>\n",
       "      <th>Y</th>\n",
       "    </tr>\n",
       "  </thead>\n",
       "  <tbody>\n",
       "    <tr>\n",
       "      <th>0</th>\n",
       "      <td>0.000000</td>\n",
       "      <td>3.440000</td>\n",
       "      <td>0.440000</td>\n",
       "      <td>4.387545</td>\n",
       "    </tr>\n",
       "    <tr>\n",
       "      <th>1</th>\n",
       "      <td>0.040404</td>\n",
       "      <td>0.134949</td>\n",
       "      <td>0.888485</td>\n",
       "      <td>2.679650</td>\n",
       "    </tr>\n",
       "    <tr>\n",
       "      <th>2</th>\n",
       "      <td>0.080808</td>\n",
       "      <td>0.829899</td>\n",
       "      <td>1.336970</td>\n",
       "      <td>2.968490</td>\n",
       "    </tr>\n",
       "    <tr>\n",
       "      <th>3</th>\n",
       "      <td>0.121212</td>\n",
       "      <td>1.524848</td>\n",
       "      <td>1.785455</td>\n",
       "      <td>3.254065</td>\n",
       "    </tr>\n",
       "    <tr>\n",
       "      <th>4</th>\n",
       "      <td>0.161616</td>\n",
       "      <td>2.219798</td>\n",
       "      <td>2.233939</td>\n",
       "      <td>3.536375</td>\n",
       "    </tr>\n",
       "  </tbody>\n",
       "</table>\n",
       "</div>"
      ],
      "text/plain": [
       "         X1        X2        X3         Y\n",
       "0  0.000000  3.440000  0.440000  4.387545\n",
       "1  0.040404  0.134949  0.888485  2.679650\n",
       "2  0.080808  0.829899  1.336970  2.968490\n",
       "3  0.121212  1.524848  1.785455  3.254065\n",
       "4  0.161616  2.219798  2.233939  3.536375"
      ]
     },
     "execution_count": 281,
     "metadata": {},
     "output_type": "execute_result"
    }
   ],
   "source": [
    "dataset = pd.read_csv('D3.csv')\n",
    "dataset.head()"
   ]
  },
  {
   "cell_type": "code",
   "execution_count": 282,
   "id": "8c04f653-56fe-4436-bfb4-ae3a1c8f5c00",
   "metadata": {},
   "outputs": [
    {
     "name": "stdout",
     "output_type": "stream",
     "text": [
      "x1 =  [0.         0.04040404 0.08080808 0.12121212 0.16161616]\n",
      "x2 =  [3.44       0.1349495  0.82989899 1.52484848 2.21979798]\n",
      "m =  100\n"
     ]
    }
   ],
   "source": [
    "x1 = dataset.values[:,0]\n",
    "x2 = dataset.values[:,1]\n",
    "x3 = dataset.values[:,2]\n",
    "y = dataset.values[:, 3]\n",
    "m = len(y)\n",
    "\n",
    "print('x1 = ', x1[: 5])\n",
    "print('x2 = ', x2[: 5])\n",
    "print('m = ', m)"
   ]
  },
  {
   "cell_type": "code",
   "execution_count": 283,
   "id": "bdd2d6b1-b0f6-4da8-977a-89e3b72b14f3",
   "metadata": {},
   "outputs": [
    {
     "data": {
      "text/plain": [
       "array([[1.],\n",
       "       [1.],\n",
       "       [1.],\n",
       "       [1.],\n",
       "       [1.]])"
      ]
     },
     "execution_count": 283,
     "metadata": {},
     "output_type": "execute_result"
    }
   ],
   "source": [
    "x0 = np.ones((m, 1))\n",
    "x0[:5]"
   ]
  },
  {
   "cell_type": "code",
   "execution_count": 284,
   "id": "79f338e1-e7ed-49fb-8699-d709d41b4760",
   "metadata": {},
   "outputs": [
    {
     "data": {
      "text/plain": [
       "array([[0.        ],\n",
       "       [0.04040404],\n",
       "       [0.08080808],\n",
       "       [0.12121212],\n",
       "       [0.16161616]])"
      ]
     },
     "execution_count": 284,
     "metadata": {},
     "output_type": "execute_result"
    }
   ],
   "source": [
    "X1 = x1.reshape(m,1)\n",
    "X2 = x2.reshape(m,1)\n",
    "X3 = x3.reshape(m,1)\n",
    "\n",
    "X1[:5]"
   ]
  },
  {
   "cell_type": "code",
   "execution_count": 285,
   "id": "8f646e34-0aa9-44bb-83ce-57337a3c4009",
   "metadata": {},
   "outputs": [
    {
     "data": {
      "text/plain": [
       "array([[1.        , 0.        , 3.44      , 0.44      ],\n",
       "       [1.        , 0.04040404, 0.1349495 , 0.88848485],\n",
       "       [1.        , 0.08080808, 0.82989899, 1.3369697 ],\n",
       "       [1.        , 0.12121212, 1.52484848, 1.78545454],\n",
       "       [1.        , 0.16161616, 2.21979798, 2.23393939]])"
      ]
     },
     "execution_count": 285,
     "metadata": {},
     "output_type": "execute_result"
    }
   ],
   "source": [
    "x1 = np.hstack((x0, X1))\n",
    "x2 = np.hstack((x0, X2))\n",
    "x3 = np.hstack((x0, X3))\n",
    "x4 = np.hstack((x0, X1, X2, X3))\n",
    "x4[:5]"
   ]
  },
  {
   "cell_type": "code",
   "execution_count": 286,
   "id": "ed3af14e-8309-4212-bbd3-2c744a11baa9",
   "metadata": {},
   "outputs": [
    {
     "data": {
      "text/plain": [
       "array([0., 0., 0., 0.])"
      ]
     },
     "execution_count": 286,
     "metadata": {},
     "output_type": "execute_result"
    }
   ],
   "source": [
    "theta = np.zeros(4)\n",
    "theta"
   ]
  },
  {
   "cell_type": "code",
   "execution_count": 287,
   "id": "dd85eaac-55df-4fe5-85aa-fbbd2cf1ef3e",
   "metadata": {},
   "outputs": [],
   "source": [
    "def get_loss(x4, y, theta):\n",
    "    \n",
    "    H = x4.dot(theta)\n",
    "    error = np.subtract(H, y)\n",
    "    sqrError = np.square(error)\n",
    "    J = 1 / (2 * m) * np.sum(sqrError)\n",
    "    \n",
    "    return J"
   ]
  },
  {
   "cell_type": "code",
   "execution_count": 288,
   "id": "044dc0de-ab65-4284-afc7-1b5031471ff8",
   "metadata": {},
   "outputs": [],
   "source": [
    "def gradient_descent(x4, y, theta, alpha, iterations):\n",
    "    \n",
    "    cost_history = np.zeros(iterations)\n",
    "    \n",
    "    for i in range(iterations):\n",
    "        H = x4.dot(theta)\n",
    "        error = np.subtract(H, y)\n",
    "        sum_delta = (alpha / m) * x4.transpose().dot(error);\n",
    "        theta = theta - sum_delta;\n",
    "        cost_history[i] = get_loss(x4, y, theta)\n",
    "        \n",
    "    return theta, cost_history\n",
    "    "
   ]
  },
  {
   "cell_type": "code",
   "execution_count": 289,
   "id": "b62e3000-819c-40ae-992e-fb2c2db2d6e2",
   "metadata": {},
   "outputs": [],
   "source": [
    "theta = np.zeros(4)\n",
    "iterations = 1500;\n",
    "alpha = 0.01;"
   ]
  },
  {
   "cell_type": "code",
   "execution_count": 290,
   "id": "dff8f354-bb02-4f5c-8ed6-13f815200ca6",
   "metadata": {},
   "outputs": [
    {
     "name": "stdout",
     "output_type": "stream",
     "text": [
      "[ 4.15118728 -1.8394291   0.72473856 -0.09513266]\n",
      "[5.21542243 4.97171977 4.7765543  ... 0.81079843 0.81065429 0.81051044]\n"
     ]
    }
   ],
   "source": [
    "theta, cost_history = gradient_descent(x4, y, theta, alpha, iterations)\n",
    "\n",
    "print(theta)\n",
    "print(cost_history)"
   ]
  },
  {
   "cell_type": "code",
   "execution_count": null,
   "id": "51b38d80-d6b9-4dcd-9f58-ebb2637dbeb4",
   "metadata": {},
   "outputs": [],
   "source": [
    "J_cost = get_loss(x4, y, theta)\n",
    "\n",
    "print(J_cost)"
   ]
  },
  {
   "cell_type": "code",
   "execution_count": null,
   "id": "bfbda300-a1d7-4367-9c4b-c7d041746288",
   "metadata": {},
   "outputs": [],
   "source": [
    "h1 = theta[0] + (1)*theta[1] + (1)*theta[2] + (1)*theta[3]\n",
    "h1\n"
   ]
  },
  {
   "cell_type": "code",
   "execution_count": 297,
   "id": "9c49c41c-0e98-4df8-9414-59a3384d9fde",
   "metadata": {},
   "outputs": [
    {
     "data": {
      "text/plain": [
       "0.1869310948460312"
      ]
     },
     "execution_count": 297,
     "metadata": {},
     "output_type": "execute_result"
    }
   ],
   "source": [
    "h2 = theta[0] + (2)*theta[1] + (0)*theta[2] + (3)*theta[3]\n",
    "h2"
   ]
  },
  {
   "cell_type": "code",
   "execution_count": 298,
   "id": "c7865477-013e-4f97-b6f2-a9cd89143fe4",
   "metadata": {},
   "outputs": [
    {
     "data": {
      "text/plain": [
       "-0.012755552822328348"
      ]
     },
     "execution_count": 298,
     "metadata": {},
     "output_type": "execute_result"
    }
   ],
   "source": [
    "h3 = theta[0] + (3)*theta[1] + (2)*theta[2] + (1)*theta[3]\n",
    "h3"
   ]
  },
  {
   "cell_type": "code",
   "execution_count": 300,
   "id": "ebd0887e-75ed-472e-b420-055840078c03",
   "metadata": {},
   "outputs": [
    {
     "data": {
      "image/png": "[encoded data removed]",
      "text/plain": [
       "<Figure size 432x288 with 1 Axes>"
      ]
     },
     "metadata": {
      "needs_background": "light"
     },
     "output_type": "display_data"
    }
   ],
   "source": [
    "plt.plot(range(1, iterations + 1), cost_history, color = 'blue')\n",
    "plt.rcParams[\"figure.figsize\"] = (10, 6)\n",
    "plt.grid()"
   ]
  },
  {
   "cell_type": "code",
   "execution_count": null,
   "id": "29b456eb-5996-4035-8f0e-6f516756cd6f",
   "metadata": {},
   "outputs": [],
   "source": []
  }
 ],
 "metadata": {
  "kernelspec": {
   "display_name": "Python 3 (ipykernel)",
   "language": "python",
   "name": "python3"
  },
  "language_info": {
   "codemirror_mode": {
    "name": "ipython",
    "version": 3
   },
   "file_extension": ".py",
   "mimetype": "text/x-python",
   "name": "python",
   "nbconvert_exporter": "python",
   "pygments_lexer": "ipython3",
   "version": "3.9.12"
  }
 },
 "nbformat": 4,
 "nbformat_minor": 5
}
